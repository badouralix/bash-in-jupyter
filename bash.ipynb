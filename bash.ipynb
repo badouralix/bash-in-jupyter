{
 "cells": [
  {
   "cell_type": "markdown",
   "metadata": {},
   "source": [
    "## Step 1\n",
    "\n",
    "Create a small local kubernetes cluster.\n",
    "\n",
    "| Binary    | Installation                                             |\n",
    "|:--------- |:-------------------------------------------------------- |\n",
    "| `kubectl` | <https://kubernetes.io/docs/tasks/tools/install-kubectl> |\n",
    "| `kubectx` | <https://github.com/ahmetb/kubectx>                      |\n",
    "| `kind`    | <https://github.com/kubernetes-sigs/kind>                |\n"
   ]
  },
  {
   "cell_type": "code",
   "execution_count": 1,
   "metadata": {},
   "outputs": [
    {
     "output_type": "stream",
     "name": "stdout",
     "text": "Creating cluster \"kind\" ...\n \u001b[32m✓\u001b[0m Ensuring node image (kindest/node:v1.17.0) 🖼\n \u001b[32m✓\u001b[0m Preparing nodes 📦 \n \u001b[32m✓\u001b[0m Writing configuration 📜\n \u001b[32m✓\u001b[0m Starting control-plane 🕹️\n \u001b[32m✓\u001b[0m Installing CNI 🔌\n \u001b[32m✓\u001b[0m Installing StorageClass 💾\nSet kubectl context to \"kind-kind\"\nYou can now use your cluster with:\n\nkubectl cluster-info --context kind-kind\n\nHave a nice day! 👋\n"
    }
   ],
   "source": [
    "!kind create cluster"
   ]
  },
  {
   "cell_type": "code",
   "execution_count": 2,
   "metadata": {},
   "outputs": [
    {
     "output_type": "stream",
     "name": "stdout",
     "text": "kind-kind\n"
    }
   ],
   "source": [
    "!kubectx --current"
   ]
  },
  {
   "cell_type": "code",
   "execution_count": 3,
   "metadata": {},
   "outputs": [
    {
     "output_type": "stream",
     "name": "stdout",
     "text": "NAMESPACE            NAME                                         READY   STATUS    RESTARTS   AGE\nkube-system          coredns-6955765f44-86kt2                     0/1     Pending   0          8s\nkube-system          coredns-6955765f44-ltztj                     0/1     Pending   0          8s\nkube-system          etcd-kind-control-plane                      1/1     Running   0          15s\nkube-system          kindnet-qjvzl                                1/1     Running   0          8s\nkube-system          kube-apiserver-kind-control-plane            1/1     Running   0          15s\nkube-system          kube-controller-manager-kind-control-plane   1/1     Running   0          15s\nkube-system          kube-proxy-x7s72                             1/1     Running   0          8s\nkube-system          kube-scheduler-kind-control-plane            1/1     Running   0          15s\nlocal-path-storage   local-path-provisioner-7745554f7f-jwp7v      0/1     Pending   0          8s\n"
    }
   ],
   "source": [
    "!kubectl get pods --all-namespaces"
   ]
  },
  {
   "cell_type": "markdown",
   "metadata": {},
   "source": [
    "## Step 2\n",
    "\n",
    "Deploy a toolbox pod. See source in <https://hub.docker.com/r/badouralix/toolbox>.\n",
    "\n",
    "Note that container creation may take some time, as the image must be pulled first."
   ]
  },
  {
   "cell_type": "code",
   "execution_count": 4,
   "metadata": {},
   "outputs": [
    {
     "output_type": "stream",
     "name": "stdout",
     "text": "pod/toolbox created\n"
    }
   ],
   "source": [
    "!kubectl run toolbox --image=badouralix/toolbox -- sleep inf"
   ]
  },
  {
   "cell_type": "code",
   "execution_count": 5,
   "metadata": {},
   "outputs": [
    {
     "output_type": "stream",
     "name": "stdout",
     "text": "NAME      READY   STATUS    RESTARTS   AGE\ntoolbox   1/1     Running   0          92s\n"
    }
   ],
   "source": [
    "!kubectl get pods"
   ]
  },
  {
   "cell_type": "code",
   "execution_count": 6,
   "metadata": {},
   "outputs": [
    {
     "output_type": "stream",
     "name": "stdout",
     "text": "Name:         toolbox\nNamespace:    default\nPriority:     0\nNode:         kind-control-plane/172.17.0.3\nStart Time:   Sat, 02 May 2020 14:54:47 +0200\nLabels:       run=toolbox\nAnnotations:  <none>\nStatus:       Running\nIP:           10.244.0.5\nIPs:\n  IP:  10.244.0.5\nContainers:\n  toolbox:\n    Container ID:  containerd://c7d1246763644bcfb7b60f9c23827f5ed652641af5d2c815eb26412f56c1930a\n    Image:         badouralix/toolbox\n    Image ID:      docker.io/badouralix/toolbox@sha256:458f6fc74d6e091e546f568740cd77ff89ce9bcb0f1e2cfa8f6a77bcf4b926ce\n    Port:          <none>\n    Host Port:     <none>\n    Args:\n      sleep\n      inf\n    State:          Running\n      Started:      Sat, 02 May 2020 14:56:01 +0200\n    Ready:          True\n    Restart Count:  0\n    Environment:    <none>\n    Mounts:\n      /var/run/secrets/kubernetes.io/serviceaccount from default-token-qs9zp (ro)\nConditions:\n  Type              Status\n  Initialized       True \n  Ready             True \n  ContainersReady   True \n  PodScheduled      True \nVolumes:\n  default-token-qs9zp:\n    Type:        Secret (a volume populated by a Secret)\n    SecretName:  default-token-qs9zp\n    Optional:    false\nQoS Class:       BestEffort\nNode-Selectors:  <none>\nTolerations:     node.kubernetes.io/not-ready:NoExecute for 300s\n                 node.kubernetes.io/unreachable:NoExecute for 300s\nEvents:\n  Type    Reason     Age   From                         Message\n  ----    ------     ----  ----                         -------\n  Normal  Scheduled  84s   default-scheduler            Successfully assigned default/toolbox to kind-control-plane\n  Normal  Pulling    83s   kubelet, kind-control-plane  Pulling image \"badouralix/toolbox\"\n  Normal  Pulled     10s   kubelet, kind-control-plane  Successfully pulled image \"badouralix/toolbox\"\n  Normal  Created    10s   kubelet, kind-control-plane  Created container toolbox\n  Normal  Started    10s   kubelet, kind-control-plane  Started container toolbox\n"
    }
   ],
   "source": [
    "!kubectl describe pod toolbox"
   ]
  },
  {
   "cell_type": "markdown",
   "metadata": {},
   "source": [
    "## Step 3\n",
    "\n",
    "Cleanup cluster."
   ]
  },
  {
   "cell_type": "code",
   "execution_count": 7,
   "metadata": {},
   "outputs": [
    {
     "output_type": "stream",
     "name": "stdout",
     "text": "pod \"toolbox\" deleted\n\nreal\t0m2.427s\nuser\t0m0.102s\nsys\t0m0.030s\n"
    }
   ],
   "source": [
    "!time kubectl delete pod toolbox"
   ]
  },
  {
   "cell_type": "code",
   "execution_count": 8,
   "metadata": {},
   "outputs": [
    {
     "output_type": "stream",
     "name": "stdout",
     "text": "Deleting cluster \"kind\" ...\n"
    }
   ],
   "source": [
    "!kind delete cluster"
   ]
  },
  {
   "cell_type": "code",
   "execution_count": null,
   "metadata": {},
   "outputs": [],
   "source": []
  }
 ],
 "metadata": {
  "language_info": {
   "codemirror_mode": {
    "name": "ipython",
    "version": 3
   },
   "file_extension": ".py",
   "mimetype": "text/x-python",
   "name": "python",
   "nbconvert_exporter": "python",
   "pygments_lexer": "ipython3",
   "version": "3.8.2-final"
  },
  "orig_nbformat": 2,
  "kernelspec": {
   "name": "python3",
   "display_name": "Python 3"
  }
 },
 "nbformat": 4,
 "nbformat_minor": 2
}
